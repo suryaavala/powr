{
 "cells": [
  {
   "cell_type": "code",
   "execution_count": 27,
   "metadata": {},
   "outputs": [
    {
     "name": "stdout",
     "output_type": "stream",
     "text": [
      "/Users/surya/Library/Caches/pypoetry/virtualenvs/powr-NZLclV9x-py3.10/bin/python\n"
     ]
    }
   ],
   "source": [
    "# making sure I'm in the right python env\n",
    "!which python"
   ]
  },
  {
   "cell_type": "code",
   "execution_count": 28,
   "metadata": {},
   "outputs": [],
   "source": [
    "# importing bunch of libraries all in one go for analysis & mpl fig sizes\n",
    "import os\n",
    "import datetime\n",
    "\n",
    "import IPython\n",
    "import IPython.display\n",
    "import matplotlib as mpl\n",
    "import matplotlib.pyplot as plt\n",
    "import numpy as np\n",
    "import pandas as pd\n",
    "import seaborn as sns\n",
    "import tensorflow as tf\n",
    "\n",
    "mpl.rcParams['figure.figsize'] = (16, 12)\n",
    "mpl.rcParams['axes.grid'] = False"
   ]
  },
  {
   "cell_type": "markdown",
   "metadata": {},
   "source": [
    "## Data Ingestion\n",
    "\n",
    "- Data Loading \n",
    "- Merging"
   ]
  },
  {
   "cell_type": "code",
   "execution_count": 29,
   "metadata": {},
   "outputs": [
    {
     "name": "stdout",
     "output_type": "stream",
     "text": [
      "/Users/surya/Development/surya/powr\n",
      "/Users/surya/Development/surya/powr/data\n",
      "/Users/surya/Development/surya/powr/data/raw\n",
      "['2022-May.csv', '2022-October.csv', '2022-March.csv', '2022-September.csv', '2022-July.csv', '2022-August.csv', '2022-April.csv', '2022-June.csv']\n"
     ]
    }
   ],
   "source": [
    "from pathlib import Path\n",
    "\n",
    "# checking current working directory \n",
    "print(Path.cwd())\n",
    "\n",
    "# setting the path to the data directory\n",
    "data_dir = Path.cwd() / 'data'\n",
    "print(data_dir)\n",
    "\n",
    "# setting path to the raw data directory & looking at the files in it\n",
    "raw_data_dir = data_dir / 'raw'\n",
    "print(raw_data_dir)\n",
    "print(os.listdir(raw_data_dir))"
   ]
  },
  {
   "cell_type": "code",
   "execution_count": 30,
   "metadata": {},
   "outputs": [
    {
     "name": "stdout",
     "output_type": "stream",
     "text": [
      "[PosixPath('/Users/surya/Development/surya/powr/data/raw/2022-May.csv'), PosixPath('/Users/surya/Development/surya/powr/data/raw/2022-October.csv'), PosixPath('/Users/surya/Development/surya/powr/data/raw/2022-March.csv'), PosixPath('/Users/surya/Development/surya/powr/data/raw/2022-September.csv'), PosixPath('/Users/surya/Development/surya/powr/data/raw/2022-July.csv'), PosixPath('/Users/surya/Development/surya/powr/data/raw/2022-August.csv'), PosixPath('/Users/surya/Development/surya/powr/data/raw/2022-April.csv'), PosixPath('/Users/surya/Development/surya/powr/data/raw/2022-June.csv')]\n",
      "8\n"
     ]
    }
   ],
   "source": [
    "## loading individual files into dataframes & inspecting them\n",
    "abs_fpaths_raw_data_files = [ fpath.absolute() for fpath in raw_data_dir.glob('*.csv') ]\n",
    "print(abs_fpaths_raw_data_files)\n",
    "\n",
    "# loading the data into dataframes\n",
    "df_raw_data_list = [ pd.read_csv(fpath) for fpath in abs_fpaths_raw_data_files ]\n",
    "print(len(df_raw_data_list))\n"
   ]
  },
  {
   "cell_type": "code",
   "execution_count": 31,
   "metadata": {},
   "outputs": [
    {
     "name": "stdout",
     "output_type": "stream",
     "text": [
      "<class 'pandas.core.frame.DataFrame'>\n",
      "RangeIndex: 22809 entries, 0 to 22808\n",
      "Data columns (total 4 columns):\n",
      " #   Column      Non-Null Count  Dtype  \n",
      "---  ------      --------------  -----  \n",
      " 0   CREATED_AT  22809 non-null  object \n",
      " 1   NAME        22809 non-null  object \n",
      " 2   VALUE       22809 non-null  float64\n",
      " 3   UNIT        22809 non-null  object \n",
      "dtypes: float64(1), object(3)\n",
      "memory usage: 712.9+ KB\n",
      "None\n",
      "<class 'pandas.core.frame.DataFrame'>\n",
      "RangeIndex: 20606 entries, 0 to 20605\n",
      "Data columns (total 4 columns):\n",
      " #   Column      Non-Null Count  Dtype  \n",
      "---  ------      --------------  -----  \n",
      " 0   CREATED_AT  20606 non-null  object \n",
      " 1   NAME        20606 non-null  object \n",
      " 2   VALUE       20606 non-null  float64\n",
      " 3   UNIT        20606 non-null  object \n",
      "dtypes: float64(1), object(3)\n",
      "memory usage: 644.1+ KB\n",
      "None\n",
      "<class 'pandas.core.frame.DataFrame'>\n",
      "RangeIndex: 25128 entries, 0 to 25127\n",
      "Data columns (total 4 columns):\n",
      " #   Column      Non-Null Count  Dtype  \n",
      "---  ------      --------------  -----  \n",
      " 0   CREATED_AT  25128 non-null  object \n",
      " 1   NAME        25128 non-null  object \n",
      " 2   VALUE       25128 non-null  float64\n",
      " 3   UNIT        25128 non-null  object \n",
      "dtypes: float64(1), object(3)\n",
      "memory usage: 785.4+ KB\n",
      "None\n",
      "<class 'pandas.core.frame.DataFrame'>\n",
      "RangeIndex: 127916 entries, 0 to 127915\n",
      "Data columns (total 4 columns):\n",
      " #   Column      Non-Null Count   Dtype  \n",
      "---  ------      --------------   -----  \n",
      " 0   CREATED_AT  127916 non-null  object \n",
      " 1   NAME        127916 non-null  object \n",
      " 2   VALUE       127916 non-null  float64\n",
      " 3   UNIT        127916 non-null  object \n",
      "dtypes: float64(1), object(3)\n",
      "memory usage: 3.9+ MB\n",
      "None\n",
      "<class 'pandas.core.frame.DataFrame'>\n",
      "RangeIndex: 46650 entries, 0 to 46649\n",
      "Data columns (total 4 columns):\n",
      " #   Column      Non-Null Count  Dtype  \n",
      "---  ------      --------------  -----  \n",
      " 0   CREATED_AT  46650 non-null  object \n",
      " 1   NAME        46650 non-null  object \n",
      " 2   VALUE       46650 non-null  float64\n",
      " 3   UNIT        46650 non-null  object \n",
      "dtypes: float64(1), object(3)\n",
      "memory usage: 1.4+ MB\n",
      "None\n",
      "<class 'pandas.core.frame.DataFrame'>\n",
      "RangeIndex: 28757 entries, 0 to 28756\n",
      "Data columns (total 4 columns):\n",
      " #   Column      Non-Null Count  Dtype  \n",
      "---  ------      --------------  -----  \n",
      " 0   CREATED_AT  28757 non-null  object \n",
      " 1   NAME        28757 non-null  object \n",
      " 2   VALUE       28757 non-null  float64\n",
      " 3   UNIT        28757 non-null  object \n",
      "dtypes: float64(1), object(3)\n",
      "memory usage: 898.8+ KB\n",
      "None\n",
      "<class 'pandas.core.frame.DataFrame'>\n",
      "RangeIndex: 25584 entries, 0 to 25583\n",
      "Data columns (total 4 columns):\n",
      " #   Column      Non-Null Count  Dtype  \n",
      "---  ------      --------------  -----  \n",
      " 0   CREATED_AT  25584 non-null  object \n",
      " 1   NAME        25584 non-null  object \n",
      " 2   VALUE       25584 non-null  float64\n",
      " 3   UNIT        25584 non-null  object \n",
      "dtypes: float64(1), object(3)\n",
      "memory usage: 799.6+ KB\n",
      "None\n",
      "<class 'pandas.core.frame.DataFrame'>\n",
      "RangeIndex: 20186 entries, 0 to 20185\n",
      "Data columns (total 4 columns):\n",
      " #   Column      Non-Null Count  Dtype  \n",
      "---  ------      --------------  -----  \n",
      " 0   CREATED_AT  20186 non-null  object \n",
      " 1   NAME        20186 non-null  object \n",
      " 2   VALUE       20186 non-null  float64\n",
      " 3   UNIT        20186 non-null  object \n",
      "dtypes: float64(1), object(3)\n",
      "memory usage: 630.9+ KB\n",
      "None\n"
     ]
    },
    {
     "data": {
      "text/plain": [
       "[None, None, None, None, None, None, None, None]"
      ]
     },
     "execution_count": 31,
     "metadata": {},
     "output_type": "execute_result"
    }
   ],
   "source": [
    "# inspecting the structure of the dataframes\n",
    "[ print(df.info()) for df in df_raw_data_list ]"
   ]
  },
  {
   "cell_type": "code",
   "execution_count": 32,
   "metadata": {},
   "outputs": [
    {
     "name": "stdout",
     "output_type": "stream",
     "text": [
      "CREATED_AT    0\n",
      "NAME          0\n",
      "VALUE         0\n",
      "UNIT          0\n",
      "dtype: int64\n",
      "CREATED_AT    0\n",
      "NAME          0\n",
      "VALUE         0\n",
      "UNIT          0\n",
      "dtype: int64\n",
      "CREATED_AT    0\n",
      "NAME          0\n",
      "VALUE         0\n",
      "UNIT          0\n",
      "dtype: int64\n",
      "CREATED_AT    0\n",
      "NAME          0\n",
      "VALUE         0\n",
      "UNIT          0\n",
      "dtype: int64\n",
      "CREATED_AT    0\n",
      "NAME          0\n",
      "VALUE         0\n",
      "UNIT          0\n",
      "dtype: int64\n",
      "CREATED_AT    0\n",
      "NAME          0\n",
      "VALUE         0\n",
      "UNIT          0\n",
      "dtype: int64\n",
      "CREATED_AT    0\n",
      "NAME          0\n",
      "VALUE         0\n",
      "UNIT          0\n",
      "dtype: int64\n",
      "CREATED_AT    0\n",
      "NAME          0\n",
      "VALUE         0\n",
      "UNIT          0\n",
      "dtype: int64\n"
     ]
    },
    {
     "data": {
      "text/plain": [
       "[None, None, None, None, None, None, None, None]"
      ]
     },
     "execution_count": 32,
     "metadata": {},
     "output_type": "execute_result"
    }
   ],
   "source": [
    "[ print(df.isna().sum()) for df in df_raw_data_list ]"
   ]
  },
  {
   "cell_type": "markdown",
   "metadata": {},
   "source": [
    "Observations:\n",
    "- All dfs are index on serial number for rows\n",
    "- All the files have the same four columns\n",
    "- Dtypes of those columns are the same across files\n",
    "- No null values in the data"
   ]
  },
  {
   "cell_type": "markdown",
   "metadata": {},
   "source": [
    "### Merging\n",
    "- Checking the following\n",
    "  - same dtypes across dfs\n",
    "  - same columns\n"
   ]
  },
  {
   "cell_type": "code",
   "execution_count": 33,
   "metadata": {},
   "outputs": [
    {
     "data": {
      "text/plain": [
       "True"
      ]
     },
     "execution_count": 33,
     "metadata": {},
     "output_type": "execute_result"
    }
   ],
   "source": [
    "def are_dfs_equivalent(df_list):\n",
    "    if len(df_list) == 0:\n",
    "        return False\n",
    "    \n",
    "    for df in df_list:\n",
    "        if df.dtypes.to_dict() != df_list[0].dtypes.to_dict() or df.columns.to_list() != df_list[0].columns.to_list() or df.index.dtype != df_list[0].index.dtype:\n",
    "            return False\n",
    "    \n",
    "    return True\n",
    "\n",
    "are_dfs_equivalent(df_raw_data_list)"
   ]
  },
  {
   "cell_type": "code",
   "execution_count": 34,
   "metadata": {},
   "outputs": [
    {
     "name": "stdout",
     "output_type": "stream",
     "text": [
      "<class 'pandas.core.frame.DataFrame'>\n",
      "RangeIndex: 317636 entries, 0 to 317635\n",
      "Data columns (total 4 columns):\n",
      " #   Column      Non-Null Count   Dtype  \n",
      "---  ------      --------------   -----  \n",
      " 0   CREATED_AT  317636 non-null  object \n",
      " 1   NAME        317636 non-null  object \n",
      " 2   VALUE       317636 non-null  float64\n",
      " 3   UNIT        317636 non-null  object \n",
      "dtypes: float64(1), object(3)\n",
      "memory usage: 9.7+ MB\n",
      "None\n"
     ]
    }
   ],
   "source": [
    "\n",
    "df_raw = pd.concat(df_raw_data_list, axis=0, ignore_index=True)\n",
    "print(df_raw.info())"
   ]
  },
  {
   "cell_type": "markdown",
   "metadata": {},
   "source": [
    "## Data Cleaning\n",
    "- Nulls\n",
    "- Duplicates\n",
    "- Values that don't make sense\n",
    "- Date time conversion"
   ]
  },
  {
   "cell_type": "markdown",
   "metadata": {},
   "source": [
    "### Nulls"
   ]
  },
  {
   "cell_type": "code",
   "execution_count": 35,
   "metadata": {},
   "outputs": [
    {
     "data": {
      "text/plain": [
       "CREATED_AT    0\n",
       "NAME          0\n",
       "VALUE         0\n",
       "UNIT          0\n",
       "dtype: int64"
      ]
     },
     "execution_count": 35,
     "metadata": {},
     "output_type": "execute_result"
    }
   ],
   "source": [
    "df_raw.isna().sum()"
   ]
  },
  {
   "cell_type": "markdown",
   "metadata": {},
   "source": [
    "### Duplicate Rows"
   ]
  },
  {
   "cell_type": "code",
   "execution_count": 36,
   "metadata": {},
   "outputs": [
    {
     "data": {
      "text/plain": [
       "True     239974\n",
       "False     77662\n",
       "dtype: int64"
      ]
     },
     "execution_count": 36,
     "metadata": {},
     "output_type": "execute_result"
    }
   ],
   "source": [
    "# checking for duplicate rows\n",
    "df_raw.duplicated().value_counts()"
   ]
  },
  {
   "cell_type": "code",
   "execution_count": 37,
   "metadata": {},
   "outputs": [
    {
     "data": {
      "text/plain": [
       "CREATED_AT       NAME           VALUE          UNIT\n",
       "28/9/2022 18:41  powerConsumed   88.445312     W       80\n",
       "26/9/2022 4:46   powerConsumed   11428.814450  W       70\n",
       "23/9/2022 7:21   powerConsumed   103.327393    W       70\n",
       "24/9/2022 10:06  powerConsumed   112.119057    W       65\n",
       "27/9/2022 4:41   powerConsumed   362.075928    W       65\n",
       "                                                       ..\n",
       "25/7/2022 9:16   powerConsumed  -743.721497    W        1\n",
       "4/6/2022 20:36   powerConsumed   174.626480    W        1\n",
       "4/6/2022 20:41   powerConsumed   87.952774     W        1\n",
       "4/6/2022 20:51   powerConsumed   175.559601    W        1\n",
       "17/6/2022 12:56  powerConsumed   136.005081    W        1\n",
       "Length: 77662, dtype: int64"
      ]
     },
     "execution_count": 37,
     "metadata": {},
     "output_type": "execute_result"
    }
   ],
   "source": [
    "df_raw.value_counts()"
   ]
  },
  {
   "cell_type": "markdown",
   "metadata": {},
   "source": [
    "### Duplicate values in Specific Columns"
   ]
  },
  {
   "cell_type": "code",
   "execution_count": 38,
   "metadata": {},
   "outputs": [
    {
     "name": "stdout",
     "output_type": "stream",
     "text": [
      "CREATED_AT 75820\n",
      "NAME 1\n",
      "VALUE 62016\n",
      "UNIT 1\n",
      "317636\n"
     ]
    }
   ],
   "source": [
    "## checking for duplicates in specific columns\n",
    "for col in df_raw.columns:\n",
    "    print(col, df_raw[col].nunique())\n",
    "print(len(df_raw))"
   ]
  },
  {
   "cell_type": "code",
   "execution_count": 39,
   "metadata": {},
   "outputs": [
    {
     "name": "stdout",
     "output_type": "stream",
     "text": [
      "28/9/2022 18:41    80\n",
      "26/9/2022 4:46     70\n",
      "23/9/2022 7:21     70\n",
      "24/9/2022 10:06    65\n",
      "27/9/2022 4:41     65\n",
      "                   ..\n",
      "28/5/2022 23:46     1\n",
      "28/5/2022 16:16     1\n",
      "28/5/2022 18:01     1\n",
      "28/5/2022 2:51      1\n",
      "30/6/2022 21:36     1\n",
      "Name: CREATED_AT, Length: 75820, dtype: int64\n",
      "powerConsumed    317636\n",
      "Name: NAME, dtype: int64\n",
      " 0.000000       26180\n",
      " 189.000000       184\n",
      " 88.000000        179\n",
      " 76.000000        173\n",
      " 188.000000       170\n",
      "                ...  \n",
      "-82.250214          1\n",
      " 1318.619873        1\n",
      " 279.512634         1\n",
      " 518.817810         1\n",
      " 162.266449         1\n",
      "Name: VALUE, Length: 62016, dtype: int64\n",
      "W    317636\n",
      "Name: UNIT, dtype: int64\n"
     ]
    }
   ],
   "source": [
    "for column in df_raw.columns:\n",
    "    print(df_raw[column].value_counts())"
   ]
  },
  {
   "cell_type": "markdown",
   "metadata": {},
   "source": [
    "### Things that don't make sense from the domain POV\n",
    "- Duplicates in date time values\n",
    "- power values that are negative (as it is gross instantaneous consumption)"
   ]
  },
  {
   "cell_type": "markdown",
   "metadata": {},
   "source": [
    "duplicates only in date time values "
   ]
  },
  {
   "cell_type": "code",
   "execution_count": 40,
   "metadata": {},
   "outputs": [
    {
     "data": {
      "text/plain": [
       "False    75820\n",
       "True      1842\n",
       "Name: CREATED_AT, dtype: int64"
      ]
     },
     "execution_count": 40,
     "metadata": {},
     "output_type": "execute_result"
    }
   ],
   "source": [
    "df_raw.loc[~df_raw.duplicated()].CREATED_AT.duplicated().value_counts()"
   ]
  },
  {
   "cell_type": "markdown",
   "metadata": {},
   "source": [
    "Negative Gross Power Consumption"
   ]
  },
  {
   "cell_type": "code",
   "execution_count": 41,
   "metadata": {},
   "outputs": [
    {
     "data": {
      "text/plain": [
       "count    317636.000000\n",
       "mean        746.519885\n",
       "std        1394.164570\n",
       "min       -8516.939453\n",
       "25%          99.173634\n",
       "50%         213.678558\n",
       "75%         665.042664\n",
       "max       13626.940430\n",
       "Name: VALUE, dtype: float64"
      ]
     },
     "execution_count": 41,
     "metadata": {},
     "output_type": "execute_result"
    }
   ],
   "source": [
    "df_raw.VALUE.describe().transpose()"
   ]
  },
  {
   "cell_type": "code",
   "execution_count": 42,
   "metadata": {},
   "outputs": [
    {
     "data": {
      "text/html": [
       "<div>\n",
       "<style scoped>\n",
       "    .dataframe tbody tr th:only-of-type {\n",
       "        vertical-align: middle;\n",
       "    }\n",
       "\n",
       "    .dataframe tbody tr th {\n",
       "        vertical-align: top;\n",
       "    }\n",
       "\n",
       "    .dataframe thead th {\n",
       "        text-align: right;\n",
       "    }\n",
       "</style>\n",
       "<table border=\"1\" class=\"dataframe\">\n",
       "  <thead>\n",
       "    <tr style=\"text-align: right;\">\n",
       "      <th></th>\n",
       "      <th>CREATED_AT</th>\n",
       "      <th>NAME</th>\n",
       "      <th>VALUE</th>\n",
       "      <th>UNIT</th>\n",
       "    </tr>\n",
       "  </thead>\n",
       "  <tbody>\n",
       "    <tr>\n",
       "      <th>196474</th>\n",
       "      <td>2/7/2022 23:21</td>\n",
       "      <td>powerConsumed</td>\n",
       "      <td>-164.418396</td>\n",
       "      <td>W</td>\n",
       "    </tr>\n",
       "    <tr>\n",
       "      <th>196489</th>\n",
       "      <td>2/7/2022 22:16</td>\n",
       "      <td>powerConsumed</td>\n",
       "      <td>-173.122269</td>\n",
       "      <td>W</td>\n",
       "    </tr>\n",
       "    <tr>\n",
       "      <th>196503</th>\n",
       "      <td>2/7/2022 1:31</td>\n",
       "      <td>powerConsumed</td>\n",
       "      <td>-1355.698242</td>\n",
       "      <td>W</td>\n",
       "    </tr>\n",
       "    <tr>\n",
       "      <th>196510</th>\n",
       "      <td>2/7/2022 7:36</td>\n",
       "      <td>powerConsumed</td>\n",
       "      <td>-267.304749</td>\n",
       "      <td>W</td>\n",
       "    </tr>\n",
       "    <tr>\n",
       "      <th>196530</th>\n",
       "      <td>3/7/2022 18:41</td>\n",
       "      <td>powerConsumed</td>\n",
       "      <td>-178.233154</td>\n",
       "      <td>W</td>\n",
       "    </tr>\n",
       "    <tr>\n",
       "      <th>...</th>\n",
       "      <td>...</td>\n",
       "      <td>...</td>\n",
       "      <td>...</td>\n",
       "      <td>...</td>\n",
       "    </tr>\n",
       "    <tr>\n",
       "      <th>219731</th>\n",
       "      <td>1/7/2022 19:26</td>\n",
       "      <td>powerConsumed</td>\n",
       "      <td>-199.984695</td>\n",
       "      <td>W</td>\n",
       "    </tr>\n",
       "    <tr>\n",
       "      <th>219732</th>\n",
       "      <td>1/7/2022 23:41</td>\n",
       "      <td>powerConsumed</td>\n",
       "      <td>-288.000977</td>\n",
       "      <td>W</td>\n",
       "    </tr>\n",
       "    <tr>\n",
       "      <th>219755</th>\n",
       "      <td>1/7/2022 23:51</td>\n",
       "      <td>powerConsumed</td>\n",
       "      <td>-222.651321</td>\n",
       "      <td>W</td>\n",
       "    </tr>\n",
       "    <tr>\n",
       "      <th>219756</th>\n",
       "      <td>1/7/2022 19:16</td>\n",
       "      <td>powerConsumed</td>\n",
       "      <td>-185.626511</td>\n",
       "      <td>W</td>\n",
       "    </tr>\n",
       "    <tr>\n",
       "      <th>219768</th>\n",
       "      <td>1/7/2022 4:36</td>\n",
       "      <td>powerConsumed</td>\n",
       "      <td>-1635.617432</td>\n",
       "      <td>W</td>\n",
       "    </tr>\n",
       "  </tbody>\n",
       "</table>\n",
       "<p>2289 rows × 4 columns</p>\n",
       "</div>"
      ],
      "text/plain": [
       "            CREATED_AT           NAME        VALUE UNIT\n",
       "196474  2/7/2022 23:21  powerConsumed  -164.418396    W\n",
       "196489  2/7/2022 22:16  powerConsumed  -173.122269    W\n",
       "196503   2/7/2022 1:31  powerConsumed -1355.698242    W\n",
       "196510   2/7/2022 7:36  powerConsumed  -267.304749    W\n",
       "196530  3/7/2022 18:41  powerConsumed  -178.233154    W\n",
       "...                ...            ...          ...  ...\n",
       "219731  1/7/2022 19:26  powerConsumed  -199.984695    W\n",
       "219732  1/7/2022 23:41  powerConsumed  -288.000977    W\n",
       "219755  1/7/2022 23:51  powerConsumed  -222.651321    W\n",
       "219756  1/7/2022 19:16  powerConsumed  -185.626511    W\n",
       "219768   1/7/2022 4:36  powerConsumed -1635.617432    W\n",
       "\n",
       "[2289 rows x 4 columns]"
      ]
     },
     "execution_count": 42,
     "metadata": {},
     "output_type": "execute_result"
    }
   ],
   "source": [
    "df_raw[df_raw['VALUE'] < 0]"
   ]
  },
  {
   "cell_type": "code",
   "execution_count": 43,
   "metadata": {},
   "outputs": [
    {
     "data": {
      "text/plain": [
       "False    2044\n",
       "True      245\n",
       "dtype: int64"
      ]
     },
     "execution_count": 43,
     "metadata": {},
     "output_type": "execute_result"
    }
   ],
   "source": [
    "df_raw[df_raw['VALUE'] < 0].duplicated().value_counts()"
   ]
  },
  {
   "cell_type": "markdown",
   "metadata": {},
   "source": [
    "### Date time converstion\n",
    "\n",
    "- Visually `'%d/%m/%Y %H:%M'` looks like the correct format, let's test that"
   ]
  },
  {
   "cell_type": "code",
   "execution_count": 44,
   "metadata": {},
   "outputs": [
    {
     "name": "stdout",
     "output_type": "stream",
     "text": [
      "It's not the same date format throught out\n",
      "time data '2022/7/2 08:56' does not match format '%d/%m/%Y %H:%M' (match)\n"
     ]
    }
   ],
   "source": [
    "try:\n",
    "    pd.to_datetime(df_raw['CREATED_AT'], format='%d/%m/%Y %H:%M', errors='raise')\n",
    "except ValueError as e:\n",
    "    print(\"It's not the same date format throught out\")\n",
    "    print(e)"
   ]
  },
  {
   "cell_type": "markdown",
   "metadata": {},
   "source": [
    "Looking at what other date time formats are present in the data"
   ]
  },
  {
   "cell_type": "code",
   "execution_count": 45,
   "metadata": {},
   "outputs": [
    {
     "data": {
      "text/plain": [
       "CREATED_AT       NAME           VALUE  UNIT\n",
       "2022/7/5 16:21   powerConsumed  0.0    W       17\n",
       "2022/7/7 19:46   powerConsumed  0.0    W       15\n",
       "2022/7/19 19:01  powerConsumed  0.0    W       15\n",
       "2022/7/21 09:21  powerConsumed  0.0    W       15\n",
       "2022/7/28 12:11  powerConsumed  0.0    W       14\n",
       "                                               ..\n",
       "2022/7/4 05:26   powerConsumed  0.0    W        1\n",
       "2022/7/14 00:21  powerConsumed  0.0    W        1\n",
       "2022/7/14 00:16  powerConsumed  0.0    W        1\n",
       "2022/7/4 05:41   powerConsumed  0.0    W        1\n",
       "2022/7/9 23:56   powerConsumed  0.0    W        1\n",
       "Length: 8847, dtype: int64"
      ]
     },
     "execution_count": 45,
     "metadata": {},
     "output_type": "execute_result"
    }
   ],
   "source": [
    "is_row_in_dmYHM_format = pd.to_datetime(df_raw['CREATED_AT'], format='%d/%m/%Y %H:%M', errors='coerce').isna()\n",
    "rows_not_in_dmYHM_format = df_raw.loc[is_row_in_dmYHM_format]\n",
    "rows_not_in_dmYHM_format.value_counts()"
   ]
  },
  {
   "cell_type": "code",
   "execution_count": 46,
   "metadata": {},
   "outputs": [
    {
     "data": {
      "text/plain": [
       "219784   2022-07-02 08:56:00\n",
       "219785   2022-07-02 10:46:00\n",
       "219786   2022-07-02 20:46:00\n",
       "219787   2022-07-02 19:52:00\n",
       "219788   2022-07-02 22:46:00\n",
       "                 ...        \n",
       "243104   2022-07-01 00:11:00\n",
       "243105   2022-07-01 04:01:00\n",
       "243106   2022-07-01 14:16:00\n",
       "243107   2022-07-01 20:01:00\n",
       "243108   2022-07-01 00:21:00\n",
       "Name: CREATED_AT, Length: 23325, dtype: datetime64[ns]"
      ]
     },
     "execution_count": 46,
     "metadata": {},
     "output_type": "execute_result"
    }
   ],
   "source": [
    "pd.to_datetime(rows_not_in_dmYHM_format['CREATED_AT'], format='%Y/%m/%d %H:%M', errors='raise')"
   ]
  },
  {
   "cell_type": "markdown",
   "metadata": {},
   "source": [
    "Looks like only two date time formats in data"
   ]
  },
  {
   "cell_type": "markdown",
   "metadata": {},
   "source": [
    "### Data Cleaning Summary\n",
    "- drop null values (just in case, even though there are none)\n",
    "- convert date time column to datetime dtype\n",
    "- drop duplicated rows\n",
    "- drop rows where power consumption is negative\n",
    "- drop columns that are not needed, that have the same value across all rows\n",
    "- sort rows by date time"
   ]
  },
  {
   "cell_type": "code",
   "execution_count": 47,
   "metadata": {},
   "outputs": [],
   "source": [
    "# func to convert datatime_strings with multiple formats into datetime objects\n",
    "def _str_to_datetime(datetime_string, known_strptimes):\n",
    "    for strptime in known_strptimes:\n",
    "        trail = pd.to_datetime(datetime_string, format=strptime, errors='coerce', utc=True)\n",
    "        if pd.notna(trail):\n",
    "            return trail\n",
    "    raise ValueError(f\"Could not convert {datetime_string} to datetime, tried {known_strptimes}\")"
   ]
  },
  {
   "cell_type": "code",
   "execution_count": 51,
   "metadata": {},
   "outputs": [],
   "source": [
    "def clean_df(raw_dataframe):\n",
    "    df = raw_dataframe.copy(deep=True)\n",
    "    df.dropna(how='any', inplace=True)\n",
    "    # pretty slow but okay for a first pass, can vectorise/optimise later\n",
    "    df['CREATED_AT'] = df['CREATED_AT'].apply(lambda x: _str_to_datetime(x, ['%d/%m/%Y %H:%M', '%Y/%m/%d %H:%M']))\n",
    "    df.drop_duplicates(keep=\"first\", ignore_index=True, inplace=True)\n",
    "    df.drop(df[df['VALUE'] < 0].index, inplace=True)\n",
    "\n",
    "    nunique = df.nunique()\n",
    "    cols_to_drop = nunique[nunique == 1].index\n",
    "    df.drop(cols_to_drop, axis=1, inplace=True)\n",
    "\n",
    "    df.sort_values(by=['CREATED_AT'], inplace=True, ignore_index=True)\n",
    "    df.reset_index(drop=True, inplace=True)\n",
    "    return df"
   ]
  },
  {
   "cell_type": "code",
   "execution_count": 52,
   "metadata": {},
   "outputs": [],
   "source": [
    "df_clean = clean_df(df_raw)\n"
   ]
  },
  {
   "cell_type": "code",
   "execution_count": 53,
   "metadata": {},
   "outputs": [
    {
     "name": "stdout",
     "output_type": "stream",
     "text": [
      "<class 'pandas.core.frame.DataFrame'>\n",
      "RangeIndex: 75478 entries, 0 to 75477\n",
      "Data columns (total 2 columns):\n",
      " #   Column      Non-Null Count  Dtype              \n",
      "---  ------      --------------  -----              \n",
      " 0   CREATED_AT  75478 non-null  datetime64[ns, UTC]\n",
      " 1   VALUE       75478 non-null  float64            \n",
      "dtypes: datetime64[ns, UTC](1), float64(1)\n",
      "memory usage: 1.2 MB\n"
     ]
    }
   ],
   "source": [
    "df_clean.info()"
   ]
  },
  {
   "cell_type": "code",
   "execution_count": 54,
   "metadata": {},
   "outputs": [
    {
     "name": "stdout",
     "output_type": "stream",
     "text": [
      "<class 'pandas.core.frame.DataFrame'>\n",
      "RangeIndex: 317636 entries, 0 to 317635\n",
      "Data columns (total 4 columns):\n",
      " #   Column      Non-Null Count   Dtype  \n",
      "---  ------      --------------   -----  \n",
      " 0   CREATED_AT  317636 non-null  object \n",
      " 1   NAME        317636 non-null  object \n",
      " 2   VALUE       317636 non-null  float64\n",
      " 3   UNIT        317636 non-null  object \n",
      "dtypes: float64(1), object(3)\n",
      "memory usage: 9.7+ MB\n"
     ]
    }
   ],
   "source": [
    "df_raw.info()"
   ]
  },
  {
   "cell_type": "code",
   "execution_count": null,
   "metadata": {},
   "outputs": [],
   "source": []
  }
 ],
 "metadata": {
  "kernelspec": {
   "display_name": "Python 3 (ipykernel)",
   "language": "python",
   "name": "python3"
  },
  "language_info": {
   "codemirror_mode": {
    "name": "ipython",
    "version": 3
   },
   "file_extension": ".py",
   "mimetype": "text/x-python",
   "name": "python",
   "nbconvert_exporter": "python",
   "pygments_lexer": "ipython3",
   "version": "3.10.7"
  },
  "orig_nbformat": 4
 },
 "nbformat": 4,
 "nbformat_minor": 2
}
